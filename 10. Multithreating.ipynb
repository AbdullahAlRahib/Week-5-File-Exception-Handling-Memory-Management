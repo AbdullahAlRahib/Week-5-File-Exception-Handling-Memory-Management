{
 "cells": [
  {
   "cell_type": "code",
   "execution_count": 2,
   "metadata": {},
   "outputs": [],
   "source": [
    "import threading"
   ]
  },
  {
   "cell_type": "code",
   "execution_count": 3,
   "metadata": {},
   "outputs": [],
   "source": [
    "def test(id):\n",
    "    print(\"Program start %d\" %id)\n"
   ]
  },
  {
   "cell_type": "code",
   "execution_count": 4,
   "metadata": {},
   "outputs": [
    {
     "name": "stdout",
     "output_type": "stream",
     "text": [
      "Program start 45\n"
     ]
    }
   ],
   "source": [
    "test(45)"
   ]
  },
  {
   "cell_type": "code",
   "execution_count": 5,
   "metadata": {},
   "outputs": [],
   "source": [
    "thread = [threading.Thread(target=test, args=(i,)) for i in range(10)]"
   ]
  },
  {
   "cell_type": "code",
   "execution_count": 6,
   "metadata": {},
   "outputs": [
    {
     "name": "stdout",
     "output_type": "stream",
     "text": [
      "Program start 0\n",
      "Program start 1\n",
      "Program start 2\n",
      "Program start 3\n",
      "Program start 4\n",
      "Program start 5\n",
      "Program start 6\n",
      "Program start 7\n",
      "Program start 8\n",
      "Program start 9\n"
     ]
    }
   ],
   "source": [
    "for t in thread:\n",
    "    t.start()"
   ]
  },
  {
   "cell_type": "code",
   "execution_count": 7,
   "metadata": {},
   "outputs": [
    {
     "data": {
      "text/plain": [
       "[<Thread(Thread-5 (test), stopped 15972)>,\n",
       " <Thread(Thread-6 (test), stopped 12872)>,\n",
       " <Thread(Thread-7 (test), stopped 20360)>,\n",
       " <Thread(Thread-8 (test), stopped 2352)>,\n",
       " <Thread(Thread-9 (test), stopped 9404)>,\n",
       " <Thread(Thread-10 (test), stopped 12428)>,\n",
       " <Thread(Thread-11 (test), stopped 15980)>,\n",
       " <Thread(Thread-12 (test), stopped 19880)>,\n",
       " <Thread(Thread-13 (test), stopped 6764)>,\n",
       " <Thread(Thread-14 (test), stopped 21304)>]"
      ]
     },
     "execution_count": 7,
     "metadata": {},
     "output_type": "execute_result"
    }
   ],
   "source": [
    "thread"
   ]
  },
  {
   "cell_type": "code",
   "execution_count": 8,
   "metadata": {},
   "outputs": [
    {
     "data": {
      "text/plain": [
       "2676405808256"
      ]
     },
     "execution_count": 8,
     "metadata": {},
     "output_type": "execute_result"
    }
   ],
   "source": [
    "id(thread)"
   ]
  },
  {
   "cell_type": "code",
   "execution_count": 9,
   "metadata": {},
   "outputs": [],
   "source": [
    "import threading\n",
    "import urllib.request\n",
    "\n",
    "def file_download(url, filename):\n",
    "    urllib.request.urlretrieve(url,filename)"
   ]
  },
  {
   "cell_type": "code",
   "execution_count": 10,
   "metadata": {},
   "outputs": [],
   "source": [
    "file_download('https://raw.githubusercontent.com/itsfoss/text-files/master/agatha.txt' , \"data.txt\")"
   ]
  },
  {
   "cell_type": "code",
   "execution_count": 11,
   "metadata": {},
   "outputs": [],
   "source": [
    "url_list  = ['https://raw.githubusercontent.com/itsfoss/text-files/master/agatha.txt','https://raw.githubusercontent.com/itsfoss/text-files/master/sherlock.txt','https://raw.githubusercontent.com/itsfoss/text-files/master/sample_log_file.txt']"
   ]
  },
  {
   "cell_type": "code",
   "execution_count": 12,
   "metadata": {},
   "outputs": [],
   "source": [
    "file_name_list = ['data1.txt' , 'data2.txt' , 'data3.txt']"
   ]
  },
  {
   "cell_type": "code",
   "execution_count": 13,
   "metadata": {},
   "outputs": [],
   "source": [
    "ther = [threading.Thread(target=file_download, args=(url_list[i],file_name_list[i])) for i in range(len(url_list))]"
   ]
  },
  {
   "cell_type": "code",
   "execution_count": 14,
   "metadata": {},
   "outputs": [
    {
     "data": {
      "text/plain": [
       "[<Thread(Thread-15 (file_download), initial)>,\n",
       " <Thread(Thread-16 (file_download), initial)>,\n",
       " <Thread(Thread-17 (file_download), initial)>]"
      ]
     },
     "execution_count": 14,
     "metadata": {},
     "output_type": "execute_result"
    }
   ],
   "source": [
    "ther"
   ]
  },
  {
   "cell_type": "code",
   "execution_count": 15,
   "metadata": {},
   "outputs": [],
   "source": [
    "for t in ther:\n",
    "    t.start()"
   ]
  },
  {
   "cell_type": "code",
   "execution_count": 16,
   "metadata": {},
   "outputs": [],
   "source": [
    "import time"
   ]
  },
  {
   "cell_type": "code",
   "execution_count": 26,
   "metadata": {},
   "outputs": [],
   "source": [
    "def test1(id):\n",
    "    for i in range(10):\n",
    "        print(\"test1 %d printing %d\" %(id,i))\n",
    "        time.sleep(1)"
   ]
  },
  {
   "cell_type": "code",
   "execution_count": 27,
   "metadata": {},
   "outputs": [],
   "source": [
    "thread1 = [threading.Thread(target=test1, args=(i,)) for i in range(3)]"
   ]
  },
  {
   "cell_type": "code",
   "execution_count": 28,
   "metadata": {},
   "outputs": [
    {
     "name": "stdout",
     "output_type": "stream",
     "text": [
      "test1 0 printing 0\n",
      "test1 1 printing 0\n",
      "test1 2 printing 0\n"
     ]
    },
    {
     "name": "stdout",
     "output_type": "stream",
     "text": [
      "test1 0 printing 1\n",
      "test1 1 printing 1\n",
      "test1 2 printing 1\n",
      "test1 0 printing 2\n",
      "test1 1 printing 2\n",
      "test1 2 printing 2\n",
      "test1 0 printing 3\n",
      "test1 1 printing 3\n",
      "test1 2 printing 3\n",
      "test1 0 printing 4test1 1 printing 4\n",
      "\n",
      "test1 2 printing 4\n",
      "test1 1 printing 5\n",
      "test1 2 printing 5\n",
      "test1 0 printing 5\n",
      "test1 2 printing 6\n",
      "test1 0 printing 6\n",
      "test1 1 printing 6\n",
      "test1 2 printing 7\n",
      "test1 1 printing 7\n",
      "test1 0 printing 7\n",
      "test1 2 printing 8\n",
      "test1 1 printing 8\n",
      "test1 0 printing 8\n",
      "test1 0 printing 9test1 2 printing 9\n",
      "\n",
      "test1 1 printing 9\n"
     ]
    }
   ],
   "source": [
    "for t in thread1:\n",
    "    t.start()"
   ]
  },
  {
   "cell_type": "code",
   "execution_count": 25,
   "metadata": {},
   "outputs": [
    {
     "data": {
      "text/plain": [
       "[<Thread(Thread-21 (test1), stopped 11148)>,\n",
       " <Thread(Thread-22 (test1), stopped 12076)>,\n",
       " <Thread(Thread-23 (test1), stopped 4588)>]"
      ]
     },
     "execution_count": 25,
     "metadata": {},
     "output_type": "execute_result"
    }
   ],
   "source": [
    "thread1"
   ]
  },
  {
   "cell_type": "code",
   "execution_count": 29,
   "metadata": {},
   "outputs": [],
   "source": [
    "def test2(id):\n",
    "    for i in range(10):\n",
    "        print(\"test1 %d printing %d %s\" %(id,i,time.ctime()))\n",
    "        time.sleep(1)"
   ]
  },
  {
   "cell_type": "code",
   "execution_count": 30,
   "metadata": {},
   "outputs": [],
   "source": [
    "thread2 = [threading.Thread(target=test2, args=(i,)) for i in range(3)]"
   ]
  },
  {
   "cell_type": "code",
   "execution_count": 32,
   "metadata": {},
   "outputs": [
    {
     "name": "stdout",
     "output_type": "stream",
     "text": [
      "test1 0 printing 0 Thu Jun 22 04:12:45 2023\n",
      "test1 0 printing 1 Thu Jun 22 04:12:46 2023\n",
      "test1 0 printing 2 Thu Jun 22 04:12:47 2023\n",
      "test1 0 printing 3 Thu Jun 22 04:12:48 2023\n",
      "test1 0 printing 4 Thu Jun 22 04:12:49 2023\n",
      "test1 0 printing 5 Thu Jun 22 04:12:50 2023\n",
      "test1 0 printing 6 Thu Jun 22 04:12:51 2023\n",
      "test1 0 printing 7 Thu Jun 22 04:12:52 2023\n",
      "test1 0 printing 8 Thu Jun 22 04:12:53 2023\n",
      "test1 0 printing 9 Thu Jun 22 04:12:54 2023\n"
     ]
    }
   ],
   "source": [
    "test2(0)"
   ]
  },
  {
   "cell_type": "code",
   "execution_count": 31,
   "metadata": {},
   "outputs": [
    {
     "name": "stdout",
     "output_type": "stream",
     "text": [
      "test1 0 printing 0 Thu Jun 22 04:12:00 2023\n",
      "test1 1 printing 0 Thu Jun 22 04:12:00 2023\n",
      "test1 2 printing 0 Thu Jun 22 04:12:00 2023\n"
     ]
    },
    {
     "name": "stdout",
     "output_type": "stream",
     "text": [
      "test1 0 printing 1 Thu Jun 22 04:12:01 2023\n",
      "test1 1 printing 1 Thu Jun 22 04:12:01 2023\n",
      "test1 2 printing 1 Thu Jun 22 04:12:01 2023\n",
      "test1 0 printing 2 Thu Jun 22 04:12:02 2023\n",
      "test1 1 printing 2 Thu Jun 22 04:12:02 2023\n",
      "test1 2 printing 2 Thu Jun 22 04:12:02 2023\n",
      "test1 0 printing 3 Thu Jun 22 04:12:03 2023\n",
      "test1 1 printing 3 Thu Jun 22 04:12:03 2023\n",
      "test1 2 printing 3 Thu Jun 22 04:12:03 2023\n",
      "test1 0 printing 4 Thu Jun 22 04:12:04 2023\n",
      "test1 1 printing 4 Thu Jun 22 04:12:04 2023\n",
      "test1 2 printing 4 Thu Jun 22 04:12:04 2023\n",
      "test1 0 printing 5 Thu Jun 22 04:12:05 2023\n",
      "test1 1 printing 5 Thu Jun 22 04:12:05 2023\n",
      "test1 2 printing 5 Thu Jun 22 04:12:05 2023\n",
      "test1 0 printing 6 Thu Jun 22 04:12:06 2023\n",
      "test1 1 printing 6 Thu Jun 22 04:12:06 2023\n",
      "test1 2 printing 6 Thu Jun 22 04:12:06 2023\n",
      "test1 0 printing 7 Thu Jun 22 04:12:07 2023\n",
      "test1 2 printing 7 Thu Jun 22 04:12:07 2023\n",
      "test1 1 printing 7 Thu Jun 22 04:12:07 2023\n",
      "test1 0 printing 8 Thu Jun 22 04:12:08 2023\n",
      "test1 1 printing 8 Thu Jun 22 04:12:08 2023\n",
      "test1 2 printing 8 Thu Jun 22 04:12:08 2023\n",
      "test1 0 printing 9 Thu Jun 22 04:12:09 2023\n",
      "test1 2 printing 9 Thu Jun 22 04:12:09 2023\n",
      "test1 1 printing 9 Thu Jun 22 04:12:09 2023\n"
     ]
    }
   ],
   "source": [
    "for t in thread2:\n",
    "    t.start()"
   ]
  },
  {
   "cell_type": "code",
   "execution_count": 36,
   "metadata": {},
   "outputs": [
    {
     "name": "stdout",
     "output_type": "stream",
     "text": [
      "test3 id is 0 has increased the shared variable by 1\n",
      "test3 id is 1 has increased the shared variable by 2\n",
      "test3 id is 2 has increased the shared variable by 3\n"
     ]
    }
   ],
   "source": [
    "shared_var = 0\n",
    "lock_var = threading.Lock()\n",
    "\n",
    "def test3(id):\n",
    "    global shared_var\n",
    "    with lock_var:\n",
    "        shared_var = shared_var+1\n",
    "        print(\"test3 id is %d has increased the shared variable by %d\" %(id, shared_var))\n",
    "ther3 = [threading.Thread(target=test3, args=(i,)) for i in range(3)]\n",
    "for t in ther3:\n",
    "    t.start()"
   ]
  },
  {
   "cell_type": "code",
   "execution_count": 37,
   "metadata": {},
   "outputs": [
    {
     "name": "stdout",
     "output_type": "stream",
     "text": [
      "test3 id is 0 has increased the shared variable by 1\n"
     ]
    },
    {
     "name": "stdout",
     "output_type": "stream",
     "text": [
      "test3 id is 1 has increased the shared variable by 2\n",
      "test3 id is 2 has increased the shared variable by 3\n"
     ]
    }
   ],
   "source": [
    "shared_var = 0\n",
    "lock_var = threading.Lock()\n",
    "\n",
    "def test3(id):\n",
    "    global shared_var\n",
    "    with lock_var:\n",
    "        shared_var = shared_var+1\n",
    "        print(\"test3 id is %d has increased the shared variable by %d\" %(id, shared_var))\n",
    "        time.sleep(1)\n",
    "ther3 = [threading.Thread(target=test3, args=(i,)) for i in range(3)]\n",
    "for t in ther3:\n",
    "    t.start()"
   ]
  },
  {
   "cell_type": "code",
   "execution_count": 38,
   "metadata": {},
   "outputs": [],
   "source": [
    "def func(seconds):\n",
    "    print(f\"Sleeping for {seconds} seconds\")\n",
    "    time.sleep(seconds)"
   ]
  },
  {
   "cell_type": "code",
   "execution_count": 39,
   "metadata": {},
   "outputs": [
    {
     "name": "stdout",
     "output_type": "stream",
     "text": [
      "Sleeping for 4 seconds\n",
      "Sleeping for 2 seconds\n",
      "Sleeping for 1 seconds\n",
      "7.002320300001884\n"
     ]
    }
   ],
   "source": [
    "time1 = time.perf_counter()\n",
    "func(4)\n",
    "func(2)\n",
    "func(1)\n",
    "time2 = time.perf_counter()\n",
    "print(time2-time1)"
   ]
  },
  {
   "cell_type": "code",
   "execution_count": 40,
   "metadata": {},
   "outputs": [
    {
     "name": "stdout",
     "output_type": "stream",
     "text": [
      "Sleeping for 4 seconds\n",
      "Sleeping for 2 seconds\n",
      "Sleeping for 1 seconds\n",
      "4.004283399997803\n"
     ]
    }
   ],
   "source": [
    "time1 = time.perf_counter()\n",
    "t1 = threading.Thread(target=func, args=[4])\n",
    "t2 = threading.Thread(target=func, args=[2])\n",
    "t3 = threading.Thread(target=func, args=[1])\n",
    "t1.start()\n",
    "t2.start()\n",
    "t3.start()\n",
    "t1.join()\n",
    "t2.join()\n",
    "t3.join()\n",
    "time2 = time.perf_counter()\n",
    "print(time2-time1)"
   ]
  }
 ],
 "metadata": {
  "kernelspec": {
   "display_name": "Python 3",
   "language": "python",
   "name": "python3"
  },
  "language_info": {
   "codemirror_mode": {
    "name": "ipython",
    "version": 3
   },
   "file_extension": ".py",
   "mimetype": "text/x-python",
   "name": "python",
   "nbconvert_exporter": "python",
   "pygments_lexer": "ipython3",
   "version": "3.11.3"
  },
  "orig_nbformat": 4
 },
 "nbformat": 4,
 "nbformat_minor": 2
}
