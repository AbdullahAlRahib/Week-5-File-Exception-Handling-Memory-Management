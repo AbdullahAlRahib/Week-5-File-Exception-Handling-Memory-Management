{
  "cells": [
    {
      "cell_type": "markdown",
      "metadata": {
        "id": "Vl1PlJu_kNmh"
      },
      "source": [
        "**What is multiprocessing in python? Why is it useful?**\n",
        "\n",
        "**Answer:**\n",
        "\n",
        "Multiprocessing in Python is a built-in package that allows the system to run multiple processes simultaneously. It will enable the breaking of applications into smaller threads that can run independently.\n",
        "\n",
        " This can be useful for a variety of tasks, such as:\n",
        "* Parallelizing CPU-intensive tasks.\n",
        "*Bundling I/O-bound tasks.\n",
        "*Breaking down large tasks.\n",
        "*Increased performance.\n",
        "*Improved scalability.\n",
        "*Improved fault tolerance.\n",
        "*Synchronization: It can be difficult to synchronize access to shared data between multiple processes.\n",
        "*Communication: It can be difficult to communicate between multiple processes.\n",
        "*Memory management: It can be difficult to manage memory usage between multiple processes."
      ]
    },
    {
      "cell_type": "markdown",
      "metadata": {
        "id": "HmnQowjCkSaq"
      },
      "source": [
        "\n",
        "**What are the differences between multiprocessing and multithreading?**\n",
        "\n",
        "**Answer:**\n",
        "\n",
        "\n",
        "Multiprocessing and multithreading are both techniques for improving the performance of a program by allowing it to run multiple tasks simultaneously. However, there are some key differences between the two techniques.\n",
        "\n",
        "* Multiprocessing involves running multiple processes at the same time. Each process has its own memory space and its own thread of execution. This means that processes can not share data or access each other's memory directly. However, they can communicate with each other through shared memory or through message passing.\n",
        "\n",
        "* Multithreading involves running multiple threads within a single process. Threads share the same memory space and the same thread of execution, but they have their own stack. This means that threads can share data and access each other's memory directly. However, they need to be careful to avoid race conditions, which can occur when two threads try to access the same data at the same time.\n",
        "\n",
        "Here are some examples of when you might use multiprocessing:\n",
        "\n",
        "* Running multiple simulations at the same time\n",
        "* Processing large amounts of data in parallel\n",
        "* Running multiple web servers on a single machine\n",
        "\n",
        "Here are some examples of when you might use multithreading:\n",
        "\n",
        "* Processing user input in real time\n",
        "* Downloading multiple files at the same time\n",
        "* Rendering a complex 3D scene"
      ]
    },
    {
      "cell_type": "code",
      "execution_count": null,
      "metadata": {
        "colab": {
          "base_uri": "https://localhost:8080/"
        },
        "id": "RfVXsKSoIJAT",
        "outputId": "9ab29534-7cae-4d2f-f773-765067692a6c"
      },
      "outputs": [
        {
          "name": "stdout",
          "output_type": "stream",
          "text": [
            "This is my main program\n",
            "This is my multiprocessing program\n"
          ]
        }
      ],
      "source": [
        "import multiprocessing\n",
        "def test():\n",
        "    print(\"This is my multiprocessing program\")\n",
        "\n",
        "if __name__ == '__main__':\n",
        "    m = multiprocessing.Process(target=test)\n",
        "    print(\"This is my main program\")\n",
        "    m.start()\n",
        "    m.join()\n"
      ]
    },
    {
      "cell_type": "code",
      "execution_count": null,
      "metadata": {
        "colab": {
          "base_uri": "https://localhost:8080/"
        },
        "id": "1nngOUZxIf2D",
        "outputId": "c341b660-48ee-42cd-e714-cf96fb56fc98"
      },
      "outputs": [
        {
          "name": "stdout",
          "output_type": "stream",
          "text": [
            "This is my multiprocessing program\n"
          ]
        }
      ],
      "source": [
        "test()"
      ]
    },
    {
      "cell_type": "code",
      "execution_count": null,
      "metadata": {
        "colab": {
          "base_uri": "https://localhost:8080/"
        },
        "id": "PG7Ce7jvIiAt",
        "outputId": "a6134ae6-e9e3-4f16-abf2-10630e90ec4a"
      },
      "outputs": [
        {
          "name": "stdout",
          "output_type": "stream",
          "text": [
            "[1, 4, 9, 16, 25, 36, 49, 64, 81]\n"
          ]
        }
      ],
      "source": [
        "def square(n):\n",
        "    return n**2\n",
        "\n",
        "if __name__ == '__main__':\n",
        "    with multiprocessing.Pool(processes = 4) as pool:\n",
        "        out = pool.map(square, [1,2,3,4,5,6,7,8,9])\n",
        "        print(out)"
      ]
    },
    {
      "cell_type": "code",
      "execution_count": null,
      "metadata": {
        "colab": {
          "base_uri": "https://localhost:8080/"
        },
        "id": "e4PCKYlsLzkO",
        "outputId": "51c2e834-7e75-43d5-eaae-760899c0ab2c"
      },
      "outputs": [
        {
          "name": "stdout",
          "output_type": "stream",
          "text": [
            "Rahim\n",
            "Karim\n",
            "Fahim\n",
            "Rohan\n"
          ]
        }
      ],
      "source": [
        "import multiprocessing\n",
        "def producer(q):\n",
        "  for i in [\"Rahim\",\"Karim\",\"Fahim\"]:\n",
        "    q.put(i)\n",
        "\n",
        "def consume(q):\n",
        "  while True:\n",
        "    item = q.get()\n",
        "    if item is None:\n",
        "      break\n",
        "    print(item)\n",
        "\n",
        "\n",
        "if __name__ == '__main__':\n",
        "  queue = multiprocessing.Queue()\n",
        "  m1 = multiprocessing.Process(target=producer, args= (queue,))\n",
        "  m2 = multiprocessing.Process(target=consume, args= (queue,))\n",
        "  m1.start()\n",
        "  m2.start()\n",
        "  queue.put(\"Rohan\")\n",
        "  m1.join()\n",
        "  m1.join()"
      ]
    },
    {
      "cell_type": "code",
      "execution_count": null,
      "metadata": {
        "colab": {
          "base_uri": "https://localhost:8080/"
        },
        "id": "X2qWeo9lQhjp",
        "outputId": "b4aa94ea-428f-4e7c-bd79-211764921620"
      },
      "outputs": [
        {
          "name": "stdout",
          "output_type": "stream",
          "text": [
            "[4, 9, 16, 25, 36, 49, 64]\n"
          ]
        }
      ],
      "source": [
        "def square(index, value):\n",
        "  value[index] = value[index]**2\n",
        "\n",
        "if __name__ == '__main__':\n",
        "  arr = multiprocessing.Array('i', [2,3,4,5,6,7,8])\n",
        "  process = []\n",
        "  for i in range(7):\n",
        "    m = multiprocessing.Process(target=square, args= (i,arr))\n",
        "    process.append(m)\n",
        "    m.start()\n",
        "  for m in process:\n",
        "    m.join()\n",
        "  print(list(arr))"
      ]
    },
    {
      "cell_type": "code",
      "execution_count": null,
      "metadata": {
        "colab": {
          "background_save": true,
          "base_uri": "https://localhost:8080/"
        },
        "id": "QHoi4EiJR0RO",
        "outputId": "2e4235d4-014f-41be-a0a7-686c584e2e5a"
      },
      "outputs": [
        {
          "name": "stdout",
          "output_type": "stream",
          "text": [
            "my name is pcu\n",
            "this is my msg to students\n",
            "i am taking class for multiprocssing \n"
          ]
        }
      ],
      "source": [
        "import multiprocessing\n",
        "def sender(conn , msg) :\n",
        "    for i in msg:\n",
        "        conn.send(i)\n",
        "    conn.close()\n",
        "\n",
        "def receive(conn) :\n",
        "    while True :\n",
        "        try :\n",
        "            msg = conn.recv()\n",
        "        except Exception as e :\n",
        "            print(e)\n",
        "            break\n",
        "        print(msg)\n",
        "\n",
        "if __name__ == '__main__' :\n",
        "    msg = [\"my name is pcu\" , \"this is my msg to students\" , \"i am taking class for multiprocssing \" ]\n",
        "    parent_con , child_con = multiprocessing.Pipe()\n",
        "    m1  = multiprocessing.Process(target=sender , args = (child_con , msg))\n",
        "    m2 = multiprocessing.Process(target=receive , args =(parent_con,))\n",
        "    m1.start()\n",
        "    m2.start()\n",
        "    m1.join()\n",
        "    child_con.close()\n",
        "    m2.join()\n",
        "    parent_con.close()\n",
        "\n",
        "\n"
      ]
    },
    {
      "cell_type": "markdown",
      "metadata": {
        "id": "2LUUJtpXke7p"
      },
      "source": [
        "# **Q4**\n",
        "\n",
        "**What is a multiprocessing pool in python? Why is it used?**\n",
        "\n",
        "**Answer:**\n",
        "\n",
        "Python multiprocessing Pool can be used for parallel execution of a function across multiple input values, distributing the input data across processes (data parallelism).\n",
        "\n",
        "A multiprocessing pool in Python is a tool that allows you to run multiple processes in parallel. This can be useful for speeding up the execution of your program by running tasks in parallel.\n",
        "\n",
        "Here are some of the benefits of using a multiprocessing pool in Python:\n",
        "\n",
        "* Increased performance. A multiprocessing pool can improve the performance of your program by running tasks in parallel. This can be especially beneficial for CPU-intensive tasks.\n",
        "* Improved scalability. A multiprocessing pool can make your program more scalable by allowing it to take advantage of multiple processors or cores.\n",
        "* Improved fault tolerance. If one process fails, the other processes in the pool will continue to run. This can help to prevent your program from crashing."
      ]
    },
    {
      "cell_type": "code",
      "execution_count": null,
      "metadata": {
        "id": "Xj6MLqmjkddV"
      },
      "outputs": [],
      "source": [
        "import multiprocessing\n",
        "\n",
        "def square(number):\n",
        "    print(number * number)\n",
        "\n",
        "if __name__ == \"__main__\":\n",
        "    pool = multiprocessing.Pool(processes=4)\n",
        "    results = pool.map(square, range(10))\n",
        "    for result in results:\n",
        "        print(result)"
      ]
    },
    {
      "cell_type": "markdown",
      "metadata": {
        "id": "ZRnV_5DocarR"
      },
      "source": [
        "# **Q6**\n",
        "\n",
        "**Write a python program to create 4 processes, each process should print a different number using the\n",
        "multiprocessing module in python.**\n",
        "\n",
        "**Answer:**"
      ]
    },
    {
      "cell_type": "code",
      "execution_count": null,
      "metadata": {
        "colab": {
          "base_uri": "https://localhost:8080/"
        },
        "id": "3e8CahkicbQ1",
        "outputId": "7bcdd964-ed7a-45b1-8c4e-cd5eaad6fcaf"
      },
      "outputs": [
        {
          "name": "stdout",
          "output_type": "stream",
          "text": [
            "0\n",
            "1\n",
            "2\n",
            "3\n"
          ]
        }
      ],
      "source": [
        "\n",
        "import multiprocessing\n",
        "\n",
        "def print_number(number):\n",
        "    print(number)\n",
        "\n",
        "if __name__ == \"__main__\":\n",
        "    processes = []\n",
        "    for i in range(4):\n",
        "        process = multiprocessing.Process(target=print_number, args=(i,))\n",
        "        processes.append(process)\n",
        "\n",
        "\n",
        "    for process in processes:\n",
        "        process.start()\n",
        "\n",
        "\n",
        "    for process in processes:\n",
        "        process.join()\n"
      ]
    }
  ],
  "metadata": {
    "colab": {
      "provenance": []
    },
    "kernelspec": {
      "display_name": "Python 3",
      "name": "python3"
    },
    "language_info": {
      "name": "python"
    }
  },
  "nbformat": 4,
  "nbformat_minor": 0
}